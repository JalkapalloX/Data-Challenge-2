{
 "cells": [
  {
   "cell_type": "markdown",
   "metadata": {},
   "source": [
    "Correlation between repetitiveness of ad and sales amount\n",
    "\n",
    "Sales performance: post-click-conv / impressions, post-view-conv / impressions,\n",
    "\n",
    "conversions per EUR (buyer bid) → 1000*(post-click-conv + post-view-conv) / buyer bid\n",
    "\n",
    "NB: buyer bid is per 1000 impressions"
   ]
  },
  {
   "cell_type": "code",
   "execution_count": 1,
   "metadata": {},
   "outputs": [],
   "source": [
    "import pandas as pd\n",
    "import sqlite3\n",
    "import numpy as np\n",
    "\n",
    "path = \"../Data/\"\n",
    "data = pd.read_csv(path + \"DataChallenge2019_GreenhouseGroup_Bidding_Algorithms_Tests.csv\",sep=\";\") # reading original data\n",
    "\n",
    "def remove_outlier(df_in, col_name):\n",
    "    q1 = df_in[col_name].quantile(0.25)\n",
    "    q3 = df_in[col_name].quantile(0.75)\n",
    "    iqr = q3-q1 #Interquartile range\n",
    "    fence_low  = q1-1.5*iqr\n",
    "    fence_high = q3+1.5*iqr\n",
    "    df_out = df_in.loc[(df_in[col_name] > fence_low) & (df_in[col_name] < fence_high)]\n",
    "    return df_out"
   ]
  },
  {
   "cell_type": "code",
   "execution_count": 14,
   "metadata": {},
   "outputs": [
    {
     "name": "stderr",
     "output_type": "stream",
     "text": [
      "C:\\Anaconda3\\lib\\site-packages\\ipykernel_launcher.py:4: SettingWithCopyWarning: \n",
      "A value is trying to be set on a copy of a slice from a DataFrame.\n",
      "Try using .loc[row_indexer,col_indexer] = value instead\n",
      "\n",
      "See the caveats in the documentation: http://pandas.pydata.org/pandas-docs/stable/indexing.html#indexing-view-versus-copy\n",
      "  after removing the cwd from sys.path.\n",
      "C:\\Anaconda3\\lib\\site-packages\\ipykernel_launcher.py:5: SettingWithCopyWarning: \n",
      "A value is trying to be set on a copy of a slice from a DataFrame.\n",
      "Try using .loc[row_indexer,col_indexer] = value instead\n",
      "\n",
      "See the caveats in the documentation: http://pandas.pydata.org/pandas-docs/stable/indexing.html#indexing-view-versus-copy\n",
      "  \"\"\"\n",
      "C:\\Anaconda3\\lib\\site-packages\\ipykernel_launcher.py:7: SettingWithCopyWarning: \n",
      "A value is trying to be set on a copy of a slice from a DataFrame\n",
      "\n",
      "See the caveats in the documentation: http://pandas.pydata.org/pandas-docs/stable/indexing.html#indexing-view-versus-copy\n",
      "  import sys\n"
     ]
    }
   ],
   "source": [
    "data_subset = data[[\"impressions_inview\",\"post_click_conv\",\"unique_user_inview\",\"post_view_conv\"]]\n",
    "\n",
    "data_subset[\"view_frequency\"]= data_subset[\"impressions_inview\"]/data_subset[\"unique_user_inview\"]\n",
    "data_subset[\"conversion_per_eur\"]= 1000*(data_subset[\"post_click_conv\"]+data_subset[\"post_view_conv\"])/data_subset[\"impressions_inview\"]\n",
    "\n",
    "data_subset.dropna(inplace=True)\n",
    "\n",
    "# replace NA as mean\n",
    "# data_subset['conversion_per_eur'].replace(to_replace=np.nan,value = data_subset['conversion_per_eur'].mean(skipna=True),inplace=True)\n",
    "# data_subset['poc_per_view'].replace(to_replace=np.nan,value = data_subset['poc_per_view'].mean(skipna=True),inplace=True)\n",
    "# data_subset['pov_per_view'].replace(to_replace=np.nan,value = data_subset['pov_per_view'].mean(skipna=True),inplace=True)"
   ]
  },
  {
   "cell_type": "code",
   "execution_count": 20,
   "metadata": {},
   "outputs": [
    {
     "data": {
      "image/png": "[encoded data removed]",
      "text/plain": [
       "<Figure size 360x360 with 1 Axes>"
      ]
     },
     "metadata": {},
     "output_type": "display_data"
    }
   ],
   "source": [
    "# data_subset.scatter(x=\"poc_per_view\",y=\"conversion_per_eur\",)\n",
    "# lmplot\n",
    "import seaborn as sns\n",
    "sns_fig= sns.lmplot(x=\"view_frequency\",y=\"conversion_per_eur\",data=data_subset,fit_reg=True)#,scatter_kws={'s':20}) \n",
    "sns_fig.savefig(\"Corr_AD_sales.png\")"
   ]
  },
  {
   "cell_type": "code",
   "execution_count": 21,
   "metadata": {},
   "outputs": [
    {
     "name": "stdout",
     "output_type": "stream",
     "text": [
      "R-squared 0.11821732890984309\n",
      "p value 1.3406678304830442e-13\n",
      "stand error 1.4785056872431448\n",
      "intercept -11.087929225729349\n"
     ]
    }
   ],
   "source": [
    "from scipy import stats\n",
    "gradient, intercept, r_value, p_value, std_err = stats.linregress(data_subset[\"view_frequency\"],data_subset[\"conversion_per_eur\"])\n",
    "print(\"R-squared\", r_value**2)\n",
    "print(\"p value\",p_value)\n",
    "print(\"stand error\",std_err)\n",
    "print(\"intercept\",intercept)"
   ]
  }
 ],
 "metadata": {
  "kernelspec": {
   "display_name": "Python 3",
   "language": "python",
   "name": "python3"
  },
  "language_info": {
   "codemirror_mode": {
    "name": "ipython",
    "version": 3
   },
   "file_extension": ".py",
   "mimetype": "text/x-python",
   "name": "python",
   "nbconvert_exporter": "python",
   "pygments_lexer": "ipython3",
   "version": "3.6.5"
  }
 },
 "nbformat": 4,
 "nbformat_minor": 2
}
